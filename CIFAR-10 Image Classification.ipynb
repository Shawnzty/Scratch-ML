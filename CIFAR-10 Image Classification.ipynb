{
 "cells": [
  {
   "cell_type": "code",
   "execution_count": 1,
   "metadata": {},
   "outputs": [],
   "source": [
    "import torch\n",
    "import torch.nn as nn\n",
    "import torch.optim as optim\n",
    "import torchvision\n",
    "import torchvision.transforms as transforms\n",
    "from torch.utils.data import DataLoader"
   ]
  },
  {
   "cell_type": "code",
   "execution_count": 2,
   "metadata": {},
   "outputs": [
    {
     "name": "stdout",
     "output_type": "stream",
     "text": [
      "Files already downloaded and verified\n",
      "Files already downloaded and verified\n"
     ]
    }
   ],
   "source": [
    "# Set device configuration\n",
    "device = torch.device('cuda' if torch.cuda.is_available() else 'cpu')\n",
    "\n",
    "# Step 1: Load CIFAR-10 Dataset\n",
    "transform = transforms.Compose([\n",
    "    transforms.RandomHorizontalFlip(), # Augmentation: Randomly flip images horizontally\n",
    "    transforms.RandomCrop(32, padding=4), # Augmentation: Randomly crop images with padding\n",
    "    transforms.ToTensor(), # Convert image to tensor format\n",
    "    transforms.Normalize((0.5, 0.5, 0.5), (0.5, 0.5, 0.5)) # Normalize image with mean and std\n",
    "])\n",
    "\n",
    "# Load train and test datasets\n",
    "train_dataset = torchvision.datasets.CIFAR10(root='./data', train=True, download=True, transform=transform)\n",
    "test_dataset = torchvision.datasets.CIFAR10(root='./data', train=False, download=True, transform=transform)\n",
    "\n",
    "# DataLoader for batch processing\n",
    "train_loader = DataLoader(dataset=train_dataset, batch_size=100, shuffle=True)\n",
    "test_loader = DataLoader(dataset=test_dataset, batch_size=100, shuffle=False)"
   ]
  },
  {
   "cell_type": "code",
   "execution_count": 3,
   "metadata": {},
   "outputs": [],
   "source": [
    "# Step 2: Define CNN Model\n",
    "class CNN(nn.Module):\n",
    "    def __init__(self):\n",
    "        super(CNN, self).__init__()\n",
    "        # Define convolutional layers\n",
    "        self.conv1 = nn.Conv2d(in_channels=3, out_channels=32, kernel_size=3, padding=1)\n",
    "        self.conv2 = nn.Conv2d(in_channels=32, out_channels=64, kernel_size=3, padding=1)\n",
    "        self.conv3 = nn.Conv2d(in_channels=64, out_channels=128, kernel_size=3, padding=1)\n",
    "        \n",
    "        # Define max pooling layer\n",
    "        self.pool = nn.MaxPool2d(kernel_size=2, stride=2)\n",
    "        \n",
    "        # Define fully connected layers\n",
    "        self.fc1 = nn.Linear(128 * 4 * 4, 256) # 128 channels, each 4x4 after pooling\n",
    "        self.fc2 = nn.Linear(256, 10) # Output layer has 10 nodes (for 10 classes)\n",
    "        \n",
    "        # Define dropout to prevent overfitting\n",
    "        self.dropout = nn.Dropout(0.5)\n",
    "\n",
    "    def forward(self, x):\n",
    "        # Pass through convolutional layers followed by ReLU activation and pooling\n",
    "        x = self.pool(torch.relu(self.conv1(x)))\n",
    "        x = self.pool(torch.relu(self.conv2(x)))\n",
    "        x = self.pool(torch.relu(self.conv3(x)))\n",
    "        \n",
    "        # Flatten the tensor for fully connected layer\n",
    "        x = x.view(-1, 128 * 4 * 4)\n",
    "        \n",
    "        # Pass through fully connected layers with dropout\n",
    "        x = torch.relu(self.fc1(x))\n",
    "        x = self.dropout(x)\n",
    "        x = self.fc2(x)\n",
    "        return x\n",
    "\n",
    "# Instantiate the model, define loss function and optimizer\n",
    "model = CNN().to(device)\n",
    "criterion = nn.CrossEntropyLoss() # Cross entropy loss for classification\n",
    "optimizer = optim.Adam(model.parameters(), lr=0.001) # Adam optimizer"
   ]
  },
  {
   "cell_type": "code",
   "execution_count": 4,
   "metadata": {},
   "outputs": [
    {
     "name": "stdout",
     "output_type": "stream",
     "text": [
      "Epoch [1/10], Step [100/500], Loss: 1.9023\n",
      "Epoch [1/10], Step [200/500], Loss: 1.6346\n",
      "Epoch [1/10], Step [300/500], Loss: 1.5277\n",
      "Epoch [1/10], Step [400/500], Loss: 1.4350\n",
      "Epoch [1/10], Step [500/500], Loss: 1.3730\n",
      "Epoch [2/10], Step [100/500], Loss: 1.3264\n",
      "Epoch [2/10], Step [200/500], Loss: 1.3149\n",
      "Epoch [2/10], Step [300/500], Loss: 1.2697\n",
      "Epoch [2/10], Step [400/500], Loss: 1.2189\n",
      "Epoch [2/10], Step [500/500], Loss: 1.1953\n",
      "Epoch [3/10], Step [100/500], Loss: 1.1708\n",
      "Epoch [3/10], Step [200/500], Loss: 1.1427\n",
      "Epoch [3/10], Step [300/500], Loss: 1.1240\n",
      "Epoch [3/10], Step [400/500], Loss: 1.1235\n",
      "Epoch [3/10], Step [500/500], Loss: 1.1057\n",
      "Epoch [4/10], Step [100/500], Loss: 1.0895\n",
      "Epoch [4/10], Step [200/500], Loss: 1.0719\n",
      "Epoch [4/10], Step [300/500], Loss: 1.0753\n",
      "Epoch [4/10], Step [400/500], Loss: 1.0266\n",
      "Epoch [4/10], Step [500/500], Loss: 1.0367\n",
      "Epoch [5/10], Step [100/500], Loss: 1.0054\n",
      "Epoch [5/10], Step [200/500], Loss: 1.0364\n",
      "Epoch [5/10], Step [300/500], Loss: 0.9869\n",
      "Epoch [5/10], Step [400/500], Loss: 0.9904\n",
      "Epoch [5/10], Step [500/500], Loss: 0.9775\n",
      "Epoch [6/10], Step [100/500], Loss: 0.9762\n",
      "Epoch [6/10], Step [200/500], Loss: 0.9308\n",
      "Epoch [6/10], Step [300/500], Loss: 0.9472\n",
      "Epoch [6/10], Step [400/500], Loss: 0.9525\n",
      "Epoch [6/10], Step [500/500], Loss: 0.9399\n",
      "Epoch [7/10], Step [100/500], Loss: 0.9256\n",
      "Epoch [7/10], Step [200/500], Loss: 0.9153\n",
      "Epoch [7/10], Step [300/500], Loss: 0.9052\n",
      "Epoch [7/10], Step [400/500], Loss: 0.8843\n",
      "Epoch [7/10], Step [500/500], Loss: 0.9170\n",
      "Epoch [8/10], Step [100/500], Loss: 0.8756\n",
      "Epoch [8/10], Step [200/500], Loss: 0.8674\n",
      "Epoch [8/10], Step [300/500], Loss: 0.8712\n",
      "Epoch [8/10], Step [400/500], Loss: 0.8545\n",
      "Epoch [8/10], Step [500/500], Loss: 0.8891\n",
      "Epoch [9/10], Step [100/500], Loss: 0.8559\n",
      "Epoch [9/10], Step [200/500], Loss: 0.8626\n",
      "Epoch [9/10], Step [300/500], Loss: 0.8312\n",
      "Epoch [9/10], Step [400/500], Loss: 0.8010\n",
      "Epoch [9/10], Step [500/500], Loss: 0.8538\n",
      "Epoch [10/10], Step [100/500], Loss: 0.8166\n",
      "Epoch [10/10], Step [200/500], Loss: 0.8119\n",
      "Epoch [10/10], Step [300/500], Loss: 0.8325\n",
      "Epoch [10/10], Step [400/500], Loss: 0.7975\n",
      "Epoch [10/10], Step [500/500], Loss: 0.8026\n"
     ]
    }
   ],
   "source": [
    "# Step 3: Train the Model\n",
    "epochs = 10\n",
    "for epoch in range(epochs):\n",
    "    model.train()\n",
    "    running_loss = 0.0\n",
    "    for i, (images, labels) in enumerate(train_loader):\n",
    "        # Move data to device (GPU or CPU)\n",
    "        images = images.to(device)\n",
    "        labels = labels.to(device)\n",
    "        \n",
    "        # Zero the parameter gradients\n",
    "        optimizer.zero_grad()\n",
    "        \n",
    "        # Forward pass\n",
    "        outputs = model(images)\n",
    "        loss = criterion(outputs, labels)\n",
    "        \n",
    "        # Backward pass and optimize\n",
    "        loss.backward()\n",
    "        optimizer.step()\n",
    "        \n",
    "        # Print statistics\n",
    "        running_loss += loss.item()\n",
    "        if (i + 1) % 100 == 0:\n",
    "            print(f'Epoch [{epoch + 1}/{epochs}], Step [{i + 1}/{len(train_loader)}], Loss: {running_loss / 100:.4f}')\n",
    "            running_loss = 0.0\n"
   ]
  },
  {
   "cell_type": "code",
   "execution_count": 8,
   "metadata": {},
   "outputs": [
    {
     "name": "stdout",
     "output_type": "stream",
     "text": [
      "Accuracy of the model on the test images: 73.95%\n"
     ]
    }
   ],
   "source": [
    "# Step 4: Test the Model\n",
    "model.eval() # Set the model to evaluation mode\n",
    "correct = 0\n",
    "total = 0\n",
    "with torch.no_grad(): # Disable gradient calculation\n",
    "    for images, labels in test_loader:\n",
    "        images = images.to(device)\n",
    "        labels = labels.to(device)\n",
    "        outputs = model(images)\n",
    "        _, predicted = torch.max(outputs.data, 1)\n",
    "        total += labels.size(0)\n",
    "        correct += (predicted == labels).sum().item()\n",
    "\n",
    "# Print accuracy\n",
    "accuracy = 100 * correct / total\n",
    "print(f'Accuracy of the model on the test images: {accuracy:.2f}%')\n",
    "\n",
    "# Save the trained model\n",
    "torch.save(model.state_dict(), 'cnn_cifar10.pth')\n",
    "\n",
    "# v1 74.66%"
   ]
  }
 ],
 "metadata": {
  "kernelspec": {
   "display_name": "main",
   "language": "python",
   "name": "python3"
  },
  "language_info": {
   "codemirror_mode": {
    "name": "ipython",
    "version": 3
   },
   "file_extension": ".py",
   "mimetype": "text/x-python",
   "name": "python",
   "nbconvert_exporter": "python",
   "pygments_lexer": "ipython3",
   "version": "3.12.7"
  }
 },
 "nbformat": 4,
 "nbformat_minor": 2
}
